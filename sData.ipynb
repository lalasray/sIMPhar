{
 "cells": [
  {
   "cell_type": "code",
   "execution_count": 76,
   "id": "e53c1c56-52e5-4b10-910a-4bccc5538771",
   "metadata": {},
   "outputs": [],
   "source": [
    "import numpy as np\n",
    "import torch\n",
    "import os\n",
    "import glob\n",
    "\n",
    "# Define the root directory\n",
    "root_dir = \"/home/lala/other/data/sIMphar_synth/\"\n",
    "\n",
    "# Function to process each directory recursively\n",
    "def process_directory(directory):\n",
    "    # Get all files named \"results.npy\" in the directory\n",
    "    file_paths = glob.glob(os.path.join(directory, \"results.npy\"))\n",
    "\n",
    "    # Process each file in the directory\n",
    "    for file_path in file_paths:\n",
    "        # Load data from the file\n",
    "        x = np.load(file_path, allow_pickle=True)\n",
    "\n",
    "        # Create a directory to save tensors if it doesn't exist\n",
    "        save_dir = os.path.dirname(file_path)\n",
    "\n",
    "        distances_tensors = []\n",
    "\n",
    "        for motion_data in x.item()[\"motion\"]:\n",
    "            distances = []\n",
    "            for frame in motion_data.transpose(2, 0, 1):\n",
    "                # Extract coordinates for joint 21 and joint 22 for the current frame\n",
    "                joint_21 = frame[20]  # Index 20 corresponds to joint 21 (0-based indexing)\n",
    "                joint_22 = frame[21]  # Index 21 corresponds to joint 22 (0-based indexing)\n",
    "\n",
    "                # Calculate the Euclidean distance between joint 21 and joint 22 using NumPy\n",
    "                distance = np.linalg.norm(joint_21 - joint_22)\n",
    "\n",
    "                # Append the distance to the list of distances for this motion\n",
    "                distances.append(distance)\n",
    "\n",
    "            # Convert distances list to a PyTorch tensor\n",
    "            distances_tensor = torch.tensor(distances)\n",
    "\n",
    "            # Append the tensor to the list of tensors\n",
    "            distances_tensors.append(distances_tensor)\n",
    "\n",
    "        # Save each tensor to a separate file in the same directory\n",
    "        for idx, tensor in enumerate(distances_tensors):\n",
    "            save_path = os.path.join(save_dir, f'distances_tensor_motion_{idx}.pt')\n",
    "            torch.save(tensor, save_path)\n",
    "\n",
    "    # Recursively process subdirectories\n",
    "    subdirectories = [d for d in os.listdir(directory) if os.path.isdir(os.path.join(directory, d))]\n",
    "    for subdirectory in subdirectories:\n",
    "        subdirectory_path = os.path.join(directory, subdirectory)\n",
    "        process_directory(subdirectory_path)\n",
    "\n",
    "# Start processing from the root directory\n",
    "process_directory(root_dir)\n"
   ]
  },
  {
   "cell_type": "code",
   "execution_count": null,
   "id": "1f42e46d-e374-4e9e-8abf-4ce113772410",
   "metadata": {},
   "outputs": [],
   "source": []
  }
 ],
 "metadata": {
  "kernelspec": {
   "display_name": "Python 3 (ipykernel)",
   "language": "python",
   "name": "python3"
  },
  "language_info": {
   "codemirror_mode": {
    "name": "ipython",
    "version": 3
   },
   "file_extension": ".py",
   "mimetype": "text/x-python",
   "name": "python",
   "nbconvert_exporter": "python",
   "pygments_lexer": "ipython3",
   "version": "3.11.7"
  }
 },
 "nbformat": 4,
 "nbformat_minor": 5
}
