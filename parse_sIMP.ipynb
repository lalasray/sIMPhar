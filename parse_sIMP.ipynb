{
 "cells": [
  {
   "cell_type": "code",
   "execution_count": 20,
   "id": "14a09431-dbea-4484-be65-783643498be3",
   "metadata": {},
   "outputs": [],
   "source": [
    "import os\n",
    "import numpy as np\n",
    "import matplotlib.pyplot as plt\n",
    "import pandas as pd\n",
    "\n",
    "simp = []\n",
    "directory = r\"C:\\Users\\lalas\\Desktop\\sIMphar\\S1_2\\mesh\"\n",
    "output_directory = r\"C:\\Users\\lalas\\Desktop\\sIMphar\"\n",
    "directory_name = os.path.basename(os.path.dirname(directory))\n",
    "\n",
    "files = os.listdir(directory)\n",
    "files.sort(key=lambda x: int(x.split(\"_\")[1].split(\".\")[0]))\n",
    "#print(files)\n",
    "\n",
    "for filename in files:\n",
    "    if filename.endswith(\".txt\"):\n",
    "        frame_number = int(filename.split('_')[0])\n",
    "        #print(frame_number)\n",
    "        with open(os.path.join(directory, filename), 'r') as file:\n",
    "            content = file.read()\n",
    "            simp.append(content)\n",
    "            #print(content,simp)\n",
    "\n",
    "content_np =  np.array(simp)\n",
    "file_name = directory_name + \".npy\"\n",
    "file_path = os.path.join(output_directory, file_name)\n",
    "np.save(file_path, content_np)"
   ]
  },
  {
   "cell_type": "code",
   "execution_count": null,
   "id": "8416f687-e092-4999-970f-a7cb888c3890",
   "metadata": {},
   "outputs": [],
   "source": []
  }
 ],
 "metadata": {
  "kernelspec": {
   "display_name": "Python 3 (ipykernel)",
   "language": "python",
   "name": "python3"
  },
  "language_info": {
   "codemirror_mode": {
    "name": "ipython",
    "version": 3
   },
   "file_extension": ".py",
   "mimetype": "text/x-python",
   "name": "python",
   "nbconvert_exporter": "python",
   "pygments_lexer": "ipython3",
   "version": "3.11.7"
  }
 },
 "nbformat": 4,
 "nbformat_minor": 5
}
